{
 "cells": [
  {
   "cell_type": "markdown",
   "id": "5c55683f",
   "metadata": {},
   "source": [
    "# 纯干速通python"
   ]
  },
  {
   "cell_type": "markdown",
   "id": "50199748",
   "metadata": {},
   "source": [
    "## 注释"
   ]
  },
  {
   "cell_type": "code",
   "execution_count": null,
   "id": "17511b73",
   "metadata": {},
   "outputs": [],
   "source": [
    "# 这是一行注释\n",
    "\n",
    "\"\"\"\n",
    "这是一个多行注释\n",
    "\"\"\"\n",
    "\n",
    "'''\n",
    "这也是一个多行注释\n",
    "'''"
   ]
  },
  {
   "cell_type": "markdown",
   "id": "0c47667f",
   "metadata": {},
   "source": [
    "## 变量"
   ]
  },
  {
   "cell_type": "code",
   "execution_count": 1,
   "id": "274036ed",
   "metadata": {},
   "outputs": [],
   "source": [
    "a = 123\n",
    "\n",
    "MyNum = 1\n",
    "myNum = 1\n",
    "_myNum = 1\n",
    "my_num = '1'\n",
    "s1 = \"12\"\n",
    "\n",
    "# 12sd = 11"
   ]
  },
  {
   "cell_type": "code",
   "execution_count": null,
   "id": "20a133ae",
   "metadata": {},
   "outputs": [],
   "source": [
    "a = 1\n",
    "b = 1.2\n",
    "c = 'hello' # \"hello\"\n",
    "d = True\n",
    "e = None"
   ]
  },
  {
   "cell_type": "code",
   "execution_count": null,
   "id": "cca0866c",
   "metadata": {},
   "outputs": [],
   "source": [
    "a = [1,3,4]\n",
    "b = {1,3,4}\n",
    "c = (1,3,4)\n",
    "d = {'n':1, 'b':2}"
   ]
  },
  {
   "cell_type": "markdown",
   "id": "03db2b02",
   "metadata": {},
   "source": [
    "## 简单语句"
   ]
  },
  {
   "cell_type": "code",
   "execution_count": 2,
   "id": "b9e7a2ad",
   "metadata": {},
   "outputs": [
    {
     "name": "stdout",
     "output_type": "stream",
     "text": [
      "hello world\n",
      "15\n",
      "hello 12\n",
      "hello 12\n",
      "hello 12\n"
     ]
    }
   ],
   "source": [
    "print('hello world')\n",
    "\n",
    "a = 15\n",
    "print(a)\n",
    "\n",
    "a = 12\n",
    "print(f\"hello {a}\")\n",
    "print(\"hello {}\".format(a))\n",
    "print(\"hello %d\" % a)"
   ]
  },
  {
   "cell_type": "code",
   "execution_count": 1,
   "id": "a86a984c",
   "metadata": {},
   "outputs": [
    {
     "name": "stdout",
     "output_type": "stream",
     "text": [
      "123 \t 456 \n",
      " 789s\n",
      "123"
     ]
    }
   ],
   "source": [
    "print(\"123 \\t 456 \\n 789s\")\n",
    "print('123', end='')"
   ]
  },
  {
   "cell_type": "code",
   "execution_count": null,
   "id": "9527e7c8",
   "metadata": {},
   "outputs": [],
   "source": [
    "a = input()\n",
    "a = input(\"请输入：\")\n",
    "a = int(input(\"请输入：\"))\n",
    "a = float(input(\"请输入：\"))\n",
    "print(a, type(a))"
   ]
  },
  {
   "cell_type": "code",
   "execution_count": null,
   "id": "5041992f",
   "metadata": {},
   "outputs": [],
   "source": [
    "a = 15\n",
    "b = str(a)\n",
    "c = float(b)\n",
    "\n",
    "# int float str bool"
   ]
  },
  {
   "cell_type": "code",
   "execution_count": 47,
   "id": "0116c6b5",
   "metadata": {},
   "outputs": [
    {
     "data": {
      "text/plain": [
       "0.1309331834749351"
      ]
     },
     "execution_count": 47,
     "metadata": {},
     "output_type": "execute_result"
    }
   ],
   "source": [
    "import random\n",
    "\n",
    "a = random.randint(1, 100)\n",
    "b = random.uniform(1, 100)\n",
    "c = random.random()"
   ]
  },
  {
   "cell_type": "code",
   "execution_count": null,
   "id": "ee308976",
   "metadata": {},
   "outputs": [],
   "source": [
    "a = 1\n",
    "a = a + 1\n",
    "a += 1\n",
    "a -= 1\n",
    "a *= 2\n",
    "a /= 2\n",
    "\n",
    "a = a ** 2\n",
    "a **= 2"
   ]
  },
  {
   "cell_type": "code",
   "execution_count": null,
   "id": "8eccf6c6",
   "metadata": {},
   "outputs": [],
   "source": [
    "# not and or\n",
    "a = False\n",
    "b = not a\n",
    "\n",
    "c = (a and (b or not a)) or a"
   ]
  },
  {
   "cell_type": "code",
   "execution_count": 52,
   "id": "69dc6b2a",
   "metadata": {},
   "outputs": [
    {
     "data": {
      "text/plain": [
       "'OHHH'"
      ]
     },
     "execution_count": 52,
     "metadata": {},
     "output_type": "execute_result"
    }
   ],
   "source": [
    "s1 = \"O\"\n",
    "s2 = \"H\"\n",
    "oh = s1+s2\n",
    "\n",
    "hh = s2 * 2\n",
    "ohhh = s1 + s2 * 3\n"
   ]
  },
  {
   "cell_type": "code",
   "execution_count": null,
   "id": "015da6d4",
   "metadata": {},
   "outputs": [],
   "source": [
    "a = 10\n",
    "b = a % 2"
   ]
  },
  {
   "cell_type": "markdown",
   "id": "a85583c8",
   "metadata": {},
   "source": [
    "## 条件与循环"
   ]
  },
  {
   "cell_type": "code",
   "execution_count": null,
   "id": "4ab2124c",
   "metadata": {},
   "outputs": [],
   "source": [
    "a = 11\n",
    "b = a % 2\n",
    "c = b == 0\n",
    "if c: # 可修改\n",
    "    print(\"偶数\")\n",
    "else:\n",
    "    print(\"不是偶数\")"
   ]
  },
  {
   "cell_type": "code",
   "execution_count": null,
   "id": "684789a0",
   "metadata": {},
   "outputs": [],
   "source": [
    "a = int(input(\"请输入你的分数：\"))\n",
    "if a < 0 or a > 100:\n",
    "    print(\"输入错误\")\n",
    "elif a < 60:\n",
    "    print(\"不及格\")\n",
    "elif a <= 80:\n",
    "    print(\"及格\")\n",
    "else:\n",
    "    print(\"优秀\")"
   ]
  },
  {
   "cell_type": "code",
   "execution_count": null,
   "id": "0ddc07b3",
   "metadata": {},
   "outputs": [],
   "source": [
    "a = 10\n",
    "if a != 10:\n",
    "    print(\"不是10\")"
   ]
  },
  {
   "cell_type": "code",
   "execution_count": null,
   "id": "c0050615",
   "metadata": {},
   "outputs": [],
   "source": [
    "a = eval(input(\"请输入一个整数：\"))\n",
    "if a == 100:\n",
    "    print(\"满分\")\n",
    "else:\n",
    "    if a < 60:\n",
    "        print(\"不及格\")\n",
    "    elif a <= 80:\n",
    "        print(\"及格\")\n",
    "    else:\n",
    "        print(\"优秀\")"
   ]
  },
  {
   "cell_type": "code",
   "execution_count": null,
   "id": "5e8bcbe5",
   "metadata": {},
   "outputs": [],
   "source": [
    "a = 0\n",
    "while a < 10:\n",
    "    a += 1\n",
    "    print(a)\n",
    "print(\"结束\")"
   ]
  },
  {
   "cell_type": "code",
   "execution_count": null,
   "id": "f674cb41",
   "metadata": {},
   "outputs": [],
   "source": [
    "a = 0\n",
    "while a < 10:\n",
    "    a += 1\n",
    "    print(a)\n",
    "    if a == 5:\n",
    "        break\n",
    "print(\"结束\")"
   ]
  },
  {
   "cell_type": "code",
   "execution_count": null,
   "id": "a5a5b0c1",
   "metadata": {},
   "outputs": [],
   "source": [
    "a = 0\n",
    "while a < 10:\n",
    "    while a < 10:\n",
    "        a += 1\n",
    "        print(a)\n",
    "        if a == 5:\n",
    "            break #continue\n",
    "    print(\"结束内层循环\")\n",
    "print(\"结束\")"
   ]
  },
  {
   "cell_type": "code",
   "execution_count": null,
   "id": "f0f6fbb1",
   "metadata": {},
   "outputs": [],
   "source": [
    "#死循环\n",
    "a = 0\n",
    "while True:\n",
    "    print(a)\n",
    "print(\"结束\")"
   ]
  },
  {
   "cell_type": "code",
   "execution_count": null,
   "id": "d25c375b",
   "metadata": {},
   "outputs": [],
   "source": [
    "# [0,1,2,3,4,5,6,7,8,9]\n",
    "for i in range(10):\n",
    "    print(i)\n",
    "print('结束')\n",
    "\n",
    "# 等效于\n",
    "arr = [0,1,2,3,4,5,6,7,8,9]\n",
    "for i in arr:\n",
    "    print(i)\n",
    "print('结束')\n",
    "\n",
    "string = \"hello\"\n",
    "for s in string:\n",
    "    print(s)"
   ]
  },
  {
   "cell_type": "code",
   "execution_count": null,
   "id": "24379591",
   "metadata": {},
   "outputs": [],
   "source": [
    "for i in range(10):\n",
    "    print(i)\n",
    "    if i == 5:\n",
    "        break\n",
    "else:\n",
    "    print(\"正常结束\")"
   ]
  },
  {
   "cell_type": "code",
   "execution_count": null,
   "id": "571d123d",
   "metadata": {},
   "outputs": [],
   "source": [
    "a = 0\n",
    "while a < 5:\n",
    "    print(a)\n",
    "    a += 1\n",
    "else:\n",
    "    print(\"正常结束\")"
   ]
  },
  {
   "cell_type": "markdown",
   "id": "79a94b2c",
   "metadata": {},
   "source": [
    "## 字符串"
   ]
  },
  {
   "cell_type": "code",
   "execution_count": 61,
   "id": "3495393e",
   "metadata": {},
   "outputs": [
    {
     "data": {
      "text/plain": [
       "'my name is da'"
      ]
     },
     "execution_count": 61,
     "metadata": {},
     "output_type": "execute_result"
    }
   ],
   "source": [
    "a = \"my name is dan\"\n",
    "a = a[1:5] # [1,5)\n",
    "a = a[:5]\n",
    "a = a[1:]\n",
    "a = a[:]\n",
    "a = a[1:5:2]\n",
    "a = a[:-1]\n",
    "a = a[::-1]\n",
    "a"
   ]
  },
  {
   "cell_type": "code",
   "execution_count": null,
   "id": "83eee9c6",
   "metadata": {},
   "outputs": [],
   "source": [
    "a = \"my name is dan\"\n",
    "a = a.replace(\"dan\", \"dandu\")\n",
    "arr = a.split(\" \")\n",
    "string = \"-\".join(arr)"
   ]
  },
  {
   "cell_type": "code",
   "execution_count": null,
   "id": "71a232ef",
   "metadata": {},
   "outputs": [],
   "source": [
    "a= \"hello\".capitalize()\n",
    "a= \"hello\".title()\n",
    "a= \"hello\".upper()\n",
    "a= \"HELLO\".lower()\n",
    "\n",
    "a= \"  hello  \".strip()\n",
    "a= \"  hello  \".lstrip()\n",
    "a= \"  hello  \".rstrip()\n"
   ]
  },
  {
   "cell_type": "markdown",
   "id": "e1274ad7",
   "metadata": {},
   "source": [
    "## 列表"
   ]
  },
  {
   "cell_type": "code",
   "execution_count": 69,
   "id": "b9016cfe",
   "metadata": {},
   "outputs": [],
   "source": [
    "string = 'app'\n",
    "s = string[0]\n",
    "\n",
    "arr = ['a', 'b', 'c']\n",
    "a = arr[0]\n",
    "\n",
    "array = [[1,2,3], [4,5,6], [7,8,9]]\n",
    "a = array[0]\n",
    "a = array[0][2]\n"
   ]
  },
  {
   "cell_type": "code",
   "execution_count": null,
   "id": "4865d1c6",
   "metadata": {},
   "outputs": [],
   "source": [
    "array = [\n",
    "    [[1,2,3],[4,5,6],[7,8,9]],\n",
    "    [[10,11,12],[13,14,15],[16,17,18]],\n",
    "    [[19,20,21],[22,23,24],[25,26,27]]\n",
    "]\n",
    "\n",
    "a = array[0][1][2]\n",
    "\n",
    "for a in array:\n",
    "    for b in a:\n",
    "        for c in b:\n",
    "            print(c)"
   ]
  },
  {
   "cell_type": "code",
   "execution_count": null,
   "id": "167dc0b8",
   "metadata": {},
   "outputs": [],
   "source": [
    "b = 12\n",
    "a = [1, False, 3.5, \"hello\", [1,2,3], (4,5,6), {7,8,9}, {'n':1}, None]\n",
    "if 1 in a:\n",
    "    print(\"存在\")\n",
    "if \"hello\" not in a:\n",
    "    print(\"不存在\")\n",
    "\n",
    "a.append(100)\n",
    "a.insert(1, 200)\n",
    "\n",
    "a.pop(0)\n",
    "a.remove(3.5)\n",
    "\n",
    "a.clear()\n",
    "del a"
   ]
  },
  {
   "cell_type": "code",
   "execution_count": null,
   "id": "83d9b2d2",
   "metadata": {},
   "outputs": [],
   "source": [
    "a = [1, False, 3.5, \"hello\", [1,2,3], (4,5,6), {7,8,9}, {'n':1}, None]\n",
    "\n",
    "a[0] = 123\n",
    "\n",
    "\n",
    "string = \"abc\"\n",
    "string[0] = \"A\"\n",
    "print(string) # str不可变"
   ]
  },
  {
   "cell_type": "code",
   "execution_count": null,
   "id": "65df3c98",
   "metadata": {},
   "outputs": [],
   "source": [
    "#赋值\n",
    "b = 12\n",
    "a = [1, False, 3.5, \"hello\", [1,2,3], (4,5,6), {7,8,9}, {'n':1}, None]\n",
    "\n",
    "b = a # 赋值，b和a指向同一个列表\n",
    "b = a.copy() # 浅拷贝，b和a指向不同的列表\n",
    "b = a[:] # 浅拷贝，b和a指向不同的列表\n",
    "import copy\n",
    "b = copy.deepcopy(a) # 深拷贝，b和a指向不同的列表\n",
    "\n",
    "\n"
   ]
  },
  {
   "cell_type": "code",
   "execution_count": null,
   "id": "3ff09beb",
   "metadata": {},
   "outputs": [],
   "source": [
    "import copy\n",
    "\n",
    "a = [1, [2, 3]]\n",
    "b = a.copy()         # 浅拷贝\n",
    "c = copy.deepcopy(a) # 深拷贝\n",
    "\n",
    "a[1][0] = 99\n",
    "print(b) # [1, [99, 3]]  # 浅拷贝跟着变\n",
    "print(c) # [1, [2, 3]]   # 深拷贝不变"
   ]
  },
  {
   "cell_type": "code",
   "execution_count": 74,
   "id": "79fb9b84",
   "metadata": {},
   "outputs": [
    {
     "data": {
      "text/plain": [
       "[4, 3, 2, 1]"
      ]
     },
     "execution_count": 74,
     "metadata": {},
     "output_type": "execute_result"
    }
   ],
   "source": [
    "a = [4,2,1,3]\n",
    "a.sort() # 升序\n",
    "a.sort(reverse=True) # 降序\n",
    "\n",
    "a = sorted(a) # 升序，返回新列表\n",
    "a = sorted(a, reverse=True) # 降序，返回新列表"
   ]
  },
  {
   "cell_type": "markdown",
   "id": "f90fb08f",
   "metadata": {},
   "source": [
    "## 元组、集合、字典"
   ]
  },
  {
   "cell_type": "code",
   "execution_count": null,
   "id": "5ba350e8",
   "metadata": {},
   "outputs": [],
   "source": [
    "a= (1,2,3)\n",
    "a[0] = 123\n",
    "print(a) # tuple不可变"
   ]
  },
  {
   "cell_type": "code",
   "execution_count": 3,
   "id": "a519de3b",
   "metadata": {},
   "outputs": [
    {
     "name": "stdout",
     "output_type": "stream",
     "text": [
      "1\n",
      "2\n",
      "st\n",
      "3\n",
      "1\n",
      "2\n",
      "stsf\n"
     ]
    }
   ],
   "source": [
    "a = \"sdfasdfasf\"\n",
    "b = [1,2,\"st\",3]\n",
    "c = (1,2,\"stsf\")\n",
    "\n",
    "for i in b:\n",
    "    print(i)\n",
    "\n",
    "for i in range(len(c)):\n",
    "    print(c[i])"
   ]
  },
  {
   "cell_type": "code",
   "execution_count": null,
   "id": "4e1347ab",
   "metadata": {},
   "outputs": [],
   "source": [
    "s = {1,3,3,4}\n",
    "print(s) # {1, 3, 4}"
   ]
  },
  {
   "cell_type": "code",
   "execution_count": 85,
   "id": "9d530dc1",
   "metadata": {},
   "outputs": [
    {
     "name": "stdout",
     "output_type": "stream",
     "text": [
      "1111\n",
      "2222\n",
      "n 2222\n",
      "b 2\n"
     ]
    }
   ],
   "source": [
    "d = {'n':\"1111\", 'b':2}\n",
    "print(d['n'])\n",
    "d['n'] = \"2222\"\n",
    "print(d['n'])\n",
    "\n",
    "d.keys()\n",
    "\n",
    "d.values()\n",
    "\n",
    "d.items()\n",
    "\n",
    "for k, v in d.items():\n",
    "    print(k, v)\n",
    "\n",
    "del d['n']\n",
    "\n",
    "d.clear()\n",
    "\n",
    "del d"
   ]
  },
  {
   "cell_type": "code",
   "execution_count": null,
   "id": "79535ae7",
   "metadata": {},
   "outputs": [],
   "source": [
    "a = {} # 空字典\n",
    "b = set() # 空集合\n"
   ]
  },
  {
   "cell_type": "markdown",
   "id": "cde32a81",
   "metadata": {},
   "source": [
    "## 函数/方法"
   ]
  },
  {
   "cell_type": "code",
   "execution_count": 86,
   "id": "feb2bf63",
   "metadata": {},
   "outputs": [
    {
     "name": "stdout",
     "output_type": "stream",
     "text": [
      "⭐️\n",
      "⭐️⭐️\n",
      "⭐️⭐️⭐️\n",
      "⭐️⭐️⭐️⭐️\n",
      "⭐️⭐️⭐️⭐️⭐️\n"
     ]
    }
   ],
   "source": [
    "print(\"⭐️\")\n",
    "print(\"⭐️⭐️\")\n",
    "print(\"⭐️⭐️⭐️\")\n",
    "print(\"⭐️⭐️⭐️⭐️\")\n",
    "print(\"⭐️⭐️⭐️⭐️⭐️\")"
   ]
  },
  {
   "cell_type": "code",
   "execution_count": 5,
   "id": "339df613",
   "metadata": {},
   "outputs": [
    {
     "name": "stdout",
     "output_type": "stream",
     "text": [
      "⭐️\n",
      "⭐️⭐️\n",
      "⭐️⭐️⭐️\n",
      "⭐️⭐️⭐️⭐️\n",
      "⭐️⭐️⭐️⭐️⭐️\n",
      "⭐️\n",
      "⭐️⭐️\n",
      "⭐️⭐️⭐️\n",
      "⭐️⭐️⭐️⭐️\n",
      "⭐️⭐️⭐️⭐️⭐️\n"
     ]
    }
   ],
   "source": [
    "def star():\n",
    "    print(\"⭐️\")\n",
    "    print(\"⭐️⭐️\")\n",
    "    print(\"⭐️⭐️⭐️\")\n",
    "    print(\"⭐️⭐️⭐️⭐️\")\n",
    "    print(\"⭐️⭐️⭐️⭐️⭐️\")\n",
    "\n",
    "star()\n",
    "star()"
   ]
  },
  {
   "cell_type": "code",
   "execution_count": 88,
   "id": "32a3513a",
   "metadata": {},
   "outputs": [
    {
     "name": "stdout",
     "output_type": "stream",
     "text": [
      "True\n",
      "False\n"
     ]
    }
   ],
   "source": [
    "def isDouble(n):\n",
    "    # if n % 2 == 0:\n",
    "    #     return True\n",
    "    # else:\n",
    "    #     return False\n",
    "    return n % 2 == 0\n",
    "\n",
    "print(isDouble(12))\n",
    "print(isDouble(11))"
   ]
  },
  {
   "cell_type": "code",
   "execution_count": 90,
   "id": "9ebee098",
   "metadata": {},
   "outputs": [
    {
     "name": "stdout",
     "output_type": "stream",
     "text": [
      "MyNum is 0\n"
     ]
    }
   ],
   "source": [
    "MyNum = 0\n",
    "\n",
    "def oper():\n",
    "    if MyNum == 0:\n",
    "        print(\"MyNum is 0\")\n",
    "    else:\n",
    "        print(\"MyNum is not 0\")\n",
    "\n",
    "oper()"
   ]
  },
  {
   "cell_type": "code",
   "execution_count": 93,
   "id": "2e9436f3",
   "metadata": {},
   "outputs": [
    {
     "name": "stdout",
     "output_type": "stream",
     "text": [
      "MyNum is 0\n",
      "MyNum is not 0\n"
     ]
    }
   ],
   "source": [
    "MyNum = 0\n",
    "\n",
    "def oper():\n",
    "    global MyNum\n",
    "    if MyNum == 0:\n",
    "        print(\"MyNum is 0\")\n",
    "    else:\n",
    "        print(\"MyNum is not 0\")\n",
    "\n",
    "    MyNum += 1\n",
    "\n",
    "oper()\n",
    "oper()"
   ]
  },
  {
   "cell_type": "code",
   "execution_count": null,
   "id": "577b61d8",
   "metadata": {},
   "outputs": [],
   "source": [
    "#写一个函数，计算a与b的和，写好注释\n",
    "def sumAB(a, b):\n",
    "    \"\"\"\n",
    "    计算a与b的和\n",
    "    :param a: 数字\n",
    "    :param b: 数字\n",
    "    :return: a与b的和\n",
    "    \"\"\"\n",
    "    return a + b\n",
    "\n",
    "sumAB(1, 2)\n",
    "\n"
   ]
  },
  {
   "cell_type": "code",
   "execution_count": 6,
   "id": "dd493aeb",
   "metadata": {},
   "outputs": [],
   "source": [
    "def main():\n",
    "    for i in range(5):\n",
    "        a()\n",
    "\n",
    "def a():\n",
    "    b()\n",
    "    c()\n",
    "\n",
    "def b():\n",
    "    pass\n",
    "\n",
    "def c():\n",
    "    pass\n",
    "\n",
    "if __name__ == \"__main__\":\n",
    "    main()"
   ]
  },
  {
   "cell_type": "markdown",
   "id": "74cf95cd",
   "metadata": {},
   "source": [
    "## 其他函数参数"
   ]
  },
  {
   "cell_type": "code",
   "execution_count": 95,
   "id": "c2df2ddf",
   "metadata": {},
   "outputs": [
    {
     "name": "stdout",
     "output_type": "stream",
     "text": [
      "(1, 2)\n",
      "1\n",
      "2\n"
     ]
    }
   ],
   "source": [
    "def g():\n",
    "    return 1, 2\n",
    "\n",
    "b =g()\n",
    "print(b) # tuple (1, 2)\n",
    "\n",
    "a,b = g()\n",
    "print(a) # 1\n",
    "print(b) # 2"
   ]
  },
  {
   "cell_type": "code",
   "execution_count": 107,
   "id": "3427ea80",
   "metadata": {},
   "outputs": [
    {
     "name": "stdout",
     "output_type": "stream",
     "text": [
      "1\n",
      "20\n",
      "(3, 4, 5)\n",
      "{'name': 'dan', 'height': 180, 'weight': 70}\n"
     ]
    }
   ],
   "source": [
    "def a(n, age=18, *args, **kwargs):\n",
    "    print(n)\n",
    "    print(age)\n",
    "    print(args)\n",
    "    print(kwargs)\n",
    "\n",
    "\n",
    "a(1,20,3,4,5, name=\"dan\", height=180, weight=70)\n"
   ]
  },
  {
   "cell_type": "markdown",
   "id": "c4003147",
   "metadata": {},
   "source": [
    "## 面向对象编程（OOP）\n",
    "\n",
    "[8分钟了解面向对象编程](https://www.bilibili.com/video/BV1wZ4y1B7A7)"
   ]
  },
  {
   "cell_type": "markdown",
   "id": "2de35c50",
   "metadata": {},
   "source": [
    "## 类与对象的基本操作"
   ]
  },
  {
   "cell_type": "code",
   "execution_count": 7,
   "id": "ed095857",
   "metadata": {},
   "outputs": [
    {
     "name": "stdout",
     "output_type": "stream",
     "text": [
      "123\n"
     ]
    }
   ],
   "source": [
    "class MyClass:\n",
    "    x = 123\n",
    "\n",
    "c = MyClass()\n",
    "print(c.x)"
   ]
  },
  {
   "cell_type": "code",
   "execution_count": 8,
   "id": "ff45f210",
   "metadata": {},
   "outputs": [
    {
     "name": "stdout",
     "output_type": "stream",
     "text": [
      "John\n",
      "36\n"
     ]
    }
   ],
   "source": [
    "class Person:\n",
    "    def __init__(self, name, age):\n",
    "        self.name = name\n",
    "        self.age = age\n",
    "\n",
    "p1 = Person(\"John\", 36)\n",
    "\n",
    "print(p1.name)\n",
    "print(p1.age)"
   ]
  },
  {
   "cell_type": "code",
   "execution_count": 9,
   "id": "7088e0d8",
   "metadata": {},
   "outputs": [
    {
     "name": "stdout",
     "output_type": "stream",
     "text": [
      "John(36)\n"
     ]
    }
   ],
   "source": [
    "class Person:\n",
    "    def __init__(self, name, age):\n",
    "        self.name = name\n",
    "        self.age = age\n",
    "\n",
    "    def __str__(self):\n",
    "        return f\"{self.name}({self.age})\"\n",
    "\n",
    "p1 = Person(\"John\", 36)\n",
    "\n",
    "print(p1)"
   ]
  },
  {
   "cell_type": "code",
   "execution_count": null,
   "id": "1f79fd91",
   "metadata": {},
   "outputs": [],
   "source": [
    "class Person:\n",
    "    def __init__(self, name, age):\n",
    "        self.name = name\n",
    "        self.age = age\n",
    "\n",
    "    def myfunc(self):\n",
    "        print(\"Hello my name is \" + self.name)\n",
    "\n",
    "p1 = Person(\"John\", 36)\n",
    "p1.myfunc()"
   ]
  },
  {
   "cell_type": "code",
   "execution_count": 10,
   "id": "d354e467",
   "metadata": {},
   "outputs": [
    {
     "name": "stdout",
     "output_type": "stream",
     "text": [
      "Hello my name is John\n"
     ]
    }
   ],
   "source": [
    "# 关于self的解读\n",
    "class Person:\n",
    "    def __init__(mysillyobject, name, age):\n",
    "        mysillyobject.name = name\n",
    "        mysillyobject.age = age\n",
    "\n",
    "    def myfunc(abc):\n",
    "        print(\"Hello my name is \" + abc.name)\n",
    "\n",
    "p1 = Person(\"John\", 36)\n",
    "p1.myfunc()"
   ]
  },
  {
   "cell_type": "markdown",
   "id": "a8f278d1",
   "metadata": {},
   "source": [
    "## 继承基础"
   ]
  },
  {
   "cell_type": "code",
   "execution_count": 11,
   "id": "709ea128",
   "metadata": {},
   "outputs": [
    {
     "name": "stdout",
     "output_type": "stream",
     "text": [
      "John Doe\n"
     ]
    }
   ],
   "source": [
    "class Person:\n",
    "    def __init__(self, fname, lname):\n",
    "        self.firstname = fname\n",
    "        self.lastname = lname\n",
    "\n",
    "    def printname(self):\n",
    "        print(self.firstname, self.lastname)\n",
    "\n",
    "#Use the Person class to create an object, and then execute the printname method:\n",
    "\n",
    "x = Person(\"John\", \"Doe\")\n",
    "x.printname()"
   ]
  },
  {
   "cell_type": "code",
   "execution_count": 12,
   "id": "2c0422d9",
   "metadata": {},
   "outputs": [
    {
     "name": "stdout",
     "output_type": "stream",
     "text": [
      "Mike Olsen\n"
     ]
    }
   ],
   "source": [
    "class Student(Person):\n",
    "    pass\n",
    "\n",
    "x = Student(\"Mike\", \"Olsen\")\n",
    "x.printname()"
   ]
  },
  {
   "cell_type": "code",
   "execution_count": null,
   "id": "083bca95",
   "metadata": {},
   "outputs": [],
   "source": [
    "class Student(Person):\n",
    "    def __init__(self, fname, lname):\n",
    "        Person.__init__(self, fname, lname)\n",
    "        # super().__init__(fname, lname)"
   ]
  },
  {
   "cell_type": "code",
   "execution_count": 13,
   "id": "580655a1",
   "metadata": {},
   "outputs": [
    {
     "name": "stdout",
     "output_type": "stream",
     "text": [
      "Welcome Mike Olsen to the class of 2019\n"
     ]
    }
   ],
   "source": [
    "class Student(Person):\n",
    "    def __init__(self, fname, lname, year):\n",
    "        super().__init__(fname, lname)\n",
    "        self.graduationyear = year\n",
    "\n",
    "    def welcome(self):\n",
    "        print(\"Welcome\", self.firstname, self.lastname, \"to the class of\", self.graduationyear)\n",
    "\n",
    "x = Student(\"Mike\", \"Olsen\", 2019)\n",
    "x.welcome()\n"
   ]
  },
  {
   "cell_type": "markdown",
   "id": "a2134ef7",
   "metadata": {},
   "source": [
    "## Try & Except"
   ]
  },
  {
   "cell_type": "code",
   "execution_count": 14,
   "id": "ddb6faba",
   "metadata": {},
   "outputs": [
    {
     "name": "stdout",
     "output_type": "stream",
     "text": [
      "Something went wrong when opening the file\n"
     ]
    }
   ],
   "source": [
    "try:\n",
    "    f = open(\"demofile.txt\")\n",
    "    try:\n",
    "        f.write(\"Lorum Ipsum\")\n",
    "    except:\n",
    "        print(\"Something went wrong when writing to the file\")\n",
    "    finally:\n",
    "        f.close()\n",
    "except:\n",
    "    print(\"Something went wrong when opening the file\")"
   ]
  },
  {
   "cell_type": "code",
   "execution_count": 16,
   "id": "e14388dc",
   "metadata": {},
   "outputs": [
    {
     "name": "stdout",
     "output_type": "stream",
     "text": [
      "Sorry, no numbers below zero\n"
     ]
    }
   ],
   "source": [
    "x = -1\n",
    "try:\n",
    "    if x < 0:\n",
    "        raise Exception(\"Sorry, no numbers below zero\")\n",
    "except Exception as e:\n",
    "    print(e)"
   ]
  }
 ],
 "metadata": {
  "kernelspec": {
   "display_name": "mllearn",
   "language": "python",
   "name": "python3"
  },
  "language_info": {
   "codemirror_mode": {
    "name": "ipython",
    "version": 3
   },
   "file_extension": ".py",
   "mimetype": "text/x-python",
   "name": "python",
   "nbconvert_exporter": "python",
   "pygments_lexer": "ipython3",
   "version": "3.10.18"
  }
 },
 "nbformat": 4,
 "nbformat_minor": 5
}
