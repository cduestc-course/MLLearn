{
 "cells": [
  {
   "cell_type": "code",
   "execution_count": 2,
   "id": "3602af81",
   "metadata": {},
   "outputs": [],
   "source": [
    "# 科学计算模块\n",
    "import numpy as np\n",
    "import pandas as pd\n",
    "\n",
    "# 绘图模块\n",
    "import matplotlib as mpl\n",
    "import matplotlib.pyplot as plt\n",
    "\n",
    "# 自定义模块\n",
    "from ML_basic_function import *"
   ]
  },
  {
   "cell_type": "markdown",
   "id": "c5103d7c",
   "metadata": {},
   "source": [
    "#### 梯度下降求解线性回归"
   ]
  },
  {
   "cell_type": "markdown",
   "id": "4b8a1cf9",
   "metadata": {},
   "source": [
    "Step 1：创建扰动不大、基本满足$y=2x_1-x_2+1$规律的数据集。"
   ]
  },
  {
   "cell_type": "code",
   "execution_count": 3,
   "id": "7cbda6ae",
   "metadata": {},
   "outputs": [],
   "source": [
    "# 设置随机数种子\n",
    "np.random.seed(24)\n",
    "\n",
    "# 扰动项取值为0.01\n",
    "features, labels = arrayGenReg(delta=0.01)"
   ]
  },
  {
   "cell_type": "markdown",
   "id": "e850489e",
   "metadata": {},
   "source": [
    "Step 2：设置初始参数"
   ]
  },
  {
   "cell_type": "code",
   "execution_count": 4,
   "id": "db3926ce",
   "metadata": {},
   "outputs": [
    {
     "data": {
      "text/plain": [
       "array([[ 1.32921217],\n",
       "       [-0.77003345],\n",
       "       [-0.31628036]])"
      ]
     },
     "execution_count": 4,
     "metadata": {},
     "output_type": "execute_result"
    }
   ],
   "source": [
    "np.random.seed(24)\n",
    "w = np.random.randn(3, 1)\n",
    "w"
   ]
  },
  {
   "cell_type": "markdown",
   "id": "1fa132f3",
   "metadata": {},
   "source": [
    "Step 3：构建损失函数与梯度表达式"
   ]
  },
  {
   "cell_type": "code",
   "execution_count": 5,
   "id": "620a8ad7",
   "metadata": {},
   "outputs": [
    {
     "data": {
      "text/plain": [
       "array([[2.0935294]])"
      ]
     },
     "execution_count": 5,
     "metadata": {},
     "output_type": "execute_result"
    }
   ],
   "source": [
    "# 计算w取值时MSE\n",
    "MSELoss(features, w, labels)"
   ]
  },
  {
   "cell_type": "code",
   "execution_count": 6,
   "id": "41f01c99",
   "metadata": {},
   "outputs": [
    {
     "data": {
      "text/plain": [
       "array([[-1.15082596],\n",
       "       [ 0.3808195 ],\n",
       "       [-2.52877477]])"
      ]
     },
     "execution_count": 6,
     "metadata": {},
     "output_type": "execute_result"
    }
   ],
   "source": [
    "# 计算w取值时梯度\n",
    "lr_gd(features, w, labels)"
   ]
  },
  {
   "cell_type": "markdown",
   "id": "2d0962f7",
   "metadata": {},
   "source": [
    "Step 4：执行梯度下降计算"
   ]
  },
  {
   "cell_type": "code",
   "execution_count": 7,
   "id": "7612339c",
   "metadata": {},
   "outputs": [
    {
     "data": {
      "text/plain": [
       "array([[ 1.99958459],\n",
       "       [-0.9998399 ],\n",
       "       [ 0.99966707]])"
      ]
     },
     "execution_count": 7,
     "metadata": {},
     "output_type": "execute_result"
    }
   ],
   "source": [
    "w, w_res = w_cal_rec(features, w, labels, gd_cal = lr_gd,\n",
    "                    lr = 0.1, itera_times = 50)\n",
    "w"
   ]
  },
  {
   "cell_type": "markdown",
   "id": "f9e868f5",
   "metadata": {},
   "source": [
    "Step 5：绘制损失函数变化曲线图"
   ]
  },
  {
   "cell_type": "code",
   "execution_count": 8,
   "id": "4d829736",
   "metadata": {},
   "outputs": [
    {
     "data": {
      "image/png": "[encoded data removed]",
      "text/plain": [
       "<Figure size 640x480 with 1 Axes>"
      ]
     },
     "metadata": {},
     "output_type": "display_data"
    }
   ],
   "source": [
    "def loss_vis(X, w_res, y, loss_func):\n",
    "    loss_value = np.array([loss_func(X, np.array(w), y) for w in w_res]).flatten()\n",
    "    plt.plot(np.arange(len(loss_value)), loss_value)\n",
    "    plt.xlabel('Number of iterations')\n",
    "    plt.ylabel('Loss')\n",
    "\n",
    "# 验证函数是否可执行\n",
    "loss_vis(features, w_res, labels, MSELoss)"
   ]
  }
 ],
 "metadata": {
  "kernelspec": {
   "display_name": "mllearn",
   "language": "python",
   "name": "python3"
  },
  "language_info": {
   "codemirror_mode": {
    "name": "ipython",
    "version": 3
   },
   "file_extension": ".py",
   "mimetype": "text/x-python",
   "name": "python",
   "nbconvert_exporter": "python",
   "pygments_lexer": "ipython3",
   "version": "3.10.18"
  }
 },
 "nbformat": 4,
 "nbformat_minor": 5
}
