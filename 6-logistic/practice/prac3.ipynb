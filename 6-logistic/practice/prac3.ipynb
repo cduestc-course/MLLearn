{
 "cells": [
  {
   "cell_type": "code",
   "execution_count": null,
   "id": "2333f552",
   "metadata": {},
   "outputs": [],
   "source": [
    "# 科学计算模块\n",
    "import numpy as np\n",
    "import pandas as pd\n",
    "\n",
    "# 绘图模块\n",
    "import matplotlib as mpl\n",
    "import matplotlib.pyplot as plt\n",
    "\n",
    "# 自定义模块\n",
    "from ML_basic_function import *"
   ]
  },
  {
   "cell_type": "markdown",
   "id": "849dfb8d",
   "metadata": {},
   "source": [
    "#### 小批量梯度下降求解线性回归"
   ]
  },
  {
   "cell_type": "code",
   "execution_count": null,
   "id": "34c3c283",
   "metadata": {},
   "outputs": [],
   "source": [
    "# TO-DO"
   ]
  }
 ],
 "metadata": {
  "language_info": {
   "name": "python"
  }
 },
 "nbformat": 4,
 "nbformat_minor": 5
}
